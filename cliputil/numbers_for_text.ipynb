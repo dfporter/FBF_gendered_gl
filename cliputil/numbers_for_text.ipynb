{
 "cells": [
  {
   "cell_type": "code",
   "execution_count": 1,
   "metadata": {},
   "outputs": [
    {
     "name": "stderr",
     "output_type": "stream",
     "text": [
      "/Users/dfporter/pma/venv/lib/python3.6/site-packages/pandas/util/_decorators.py:118: FutureWarning: The `sheetname` keyword is deprecated, use `sheet_name` instead\n",
      "  return func(*args, **kwargs)\n"
     ]
    }
   ],
   "source": [
    "import pandas, glob, pickle, scipy, re, collections, importlib\n",
    "import matplotlib.pyplot as plt\n",
    "import seaborn as sns\n",
    "import numpy as np\n",
    "import seaborn as sns\n",
    "\n",
    "rl = importlib.reload\n",
    "\n",
    "import figureMaker\n",
    "import utils\n",
    "from peaksList import peaksList\n",
    "\n",
    "import blocks\n",
    "rl(blocks)\n",
    "from blocks import blocki, blockii, blockiii\n",
    "\n",
    "import countsColumnsNaming\n",
    "import countsFileIO\n",
    "import heatmap2\n",
    "\n",
    "rl(figureMaker)\n",
    "rl(countsFileIO)\n",
    "rl(countsColumnsNaming)\n",
    "\n",
    "rl(heatmap2)\n",
    "prefix = '../v2/combined_filtered/'\n",
    "\n",
    "fname_to_label = {\n",
    "prefix + 'old_fbf2.txt': 'old_fbf2',\n",
    "prefix + 'old_fbf1.txt': 'old_fbf1',\n",
    "prefix + 'oo_both.txt': 'oo_both',\n",
    "prefix + 'oo_fbf1.txt': 'oo_fbf1',\n",
    "prefix + 'oo_fbf2.txt': 'oo_fbf2',\n",
    "prefix + 'sp_both.txt': 'sp_both',\n",
    "prefix + 'sp_fbf1.txt': 'sp_fbf1',\n",
    "prefix + 'sp_fbf2.txt': 'sp_fbf2',\n",
    "#prefix + 'old_fbf1_to_fbf2_n2.txt': 'old_fbf1_to_fbf2_n2',\n",
    "}\n",
    "label_to_fname = dict(zip(fname_to_label.values(), fname_to_label.keys()))\n",
    "\n"
   ]
  },
  {
   "cell_type": "code",
   "execution_count": 18,
   "metadata": {},
   "outputs": [
    {
     "name": "stdout",
     "output_type": "stream",
     "text": [
      "Target numbers based on peaks:\n",
      "SP FBF (25°C)\n",
      "# RNAs: 1704\n",
      "lincRNAs found: ['linc-7', 'linc-7', 'linc-4', 'linc-36', 'linc-71']\n",
      "SP FBF-2 (25°C)\n",
      "# RNAs: 1822\n",
      "lincRNAs found: ['linc-7', 'linc-7', 'linc-4', 'linc-29']\n",
      "SP FBF-1 (25°C)\n",
      "# RNAs: 1804\n",
      "lincRNAs found: ['linc-7', 'linc-7', 'linc-36', 'linc-29', 'linc-4']\n",
      "OO FBF-2 (20°C)\n",
      "# RNAs: 2028\n",
      "lincRNAs found: ['linc-7', 'linc-7', 'linc-4']\n",
      "OO FBF (25°C)\n",
      "# RNAs: 1522\n",
      "lincRNAs found: ['linc-7', 'linc-7', 'linc-4', 'linc-29']\n",
      "OO FBF-1 (20°C)\n",
      "# RNAs: 2456\n",
      "lincRNAs found: ['linc-7', 'linc-7', 'linc-4', 'linc-29']\n",
      "OO FBF-2 (25°C)\n",
      "# RNAs: 464\n",
      "lincRNAs found: []\n",
      "OO FBF-1 (25°C)\n",
      "# RNAs: 1064\n",
      "lincRNAs found: ['linc-7', 'linc-7', 'linc-29']\n",
      "Block I\n",
      "# RNAs: 75\n",
      "Positives (1 found): {'fog-3'}\n",
      "lincRNAs found: ['linc-36']\n",
      "Block II\n",
      "# RNAs: 509\n",
      "Positives (10 found): {'htp-2', 'lip-1', 'fbf-1', 'him-3', 'syp-2', 'mpk-1', 'fog-1', 'fem-3', 'gld-3', 'fbf-2'}\n",
      "lincRNAs found: ['linc-7']\n",
      "Block III\n",
      "# RNAs: 21\n",
      "Positives (2 found): {'htp-1', 'gld-1'}\n",
      "lincRNAs found: []\n",
      "Positives not found: {'syp-3', 'egl-4'}\n"
     ]
    }
   ],
   "source": [
    "exl = pandas.ExcelFile('../v2/tables/Table S1 Peaks.xls')\n",
    "\n",
    "dfs = {}\n",
    "\n",
    "print(\"Target numbers based on peaks:\")\n",
    "\n",
    "for sheet_name in exl.sheet_names:\n",
    "    \n",
    "    print(sheet_name)\n",
    "    \n",
    "    dfs[sheet_name] = pandas.read_excel(exl, sheet_name)\n",
    "    \n",
    "    print(\"# RNAs: {}\".format(len(set(dfs[sheet_name]['Gene name']))))\n",
    "    \n",
    "    lincRNAs = [x for x in dfs[sheet_name]['Gene name'] if re.search('linc', x)]\n",
    "    print(\"lincRNAs found: {}\".format(lincRNAs))\n",
    "    \n",
    "exl = pandas.ExcelFile('../v2/tables/File S6 Blocks.xls')\n",
    "\n",
    "pos_labels = set(\n",
    "    ['gld-1','htp-1','htp-2','mpk-1','him-3','fbf-1','lip-1','syp-2',\n",
    "     'fbf-2','fog-1','fem-3','syp-3','gld-3','fog-3','egl-4'])\n",
    "\n",
    "found = set()\n",
    "\n",
    "for sheet_name in exl.sheet_names:\n",
    "    \n",
    "    print(sheet_name)\n",
    "    \n",
    "    dfs[sheet_name] = pandas.read_excel(exl, sheet_name)\n",
    "    \n",
    "    print(\"# RNAs: {}\".format(len(set(dfs[sheet_name]['Gene name']))))\n",
    "    \n",
    "    pos = set(dfs[sheet_name]['Gene name']) & pos_labels\n",
    "    print(\"Positives ({} found): {}\".format(len(pos), pos))\n",
    "    found |= pos\n",
    "\n",
    "    lincRNAs = [x for x in dfs[sheet_name]['Gene name'] if re.search('linc', x)]\n",
    "    print(\"lincRNAs found: {}\".format(lincRNAs))\n",
    "    \n",
    "print(\"Positives not found: {}\".format(pos_labels - found))"
   ]
  },
  {
   "cell_type": "code",
   "execution_count": 10,
   "metadata": {},
   "outputs": [
    {
     "name": "stdout",
     "output_type": "stream",
     "text": [
      "Number of RNAs in heatmap: 2111\n"
     ]
    }
   ],
   "source": [
    "df = pandas.read_excel('../v2/tables/File S5 Complex frequencies.xls')\n",
    "print(\"Number of RNAs in heatmap: {}\".format(len(df.index)))"
   ]
  },
  {
   "cell_type": "code",
   "execution_count": 36,
   "metadata": {},
   "outputs": [
    {
     "name": "stdout",
     "output_type": "stream",
     "text": [
      "               exp_fbf1_sp_1  exp_fbf1_sp_2  exp_fbf1_sp_3  exp_fbf2_sp_1  \\\n",
      "exp_fbf1_sp_1       1.000000       0.975852       0.976935       0.788603   \n",
      "exp_fbf1_sp_2       0.975852       1.000000       0.975738       0.782619   \n",
      "exp_fbf1_sp_3       0.976935       0.975738       1.000000       0.794569   \n",
      "exp_fbf2_sp_1       0.788603       0.782619       0.794569       1.000000   \n",
      "exp_fbf2_sp_2       0.792314       0.783549       0.794597       0.978512   \n",
      "exp_fbf2_sp_3       0.785555       0.777718       0.786101       0.978889   \n",
      "exp_fbf1_oo_1       0.651501       0.657253       0.652231       0.620738   \n",
      "exp_fbf1_oo_2       0.763720       0.764779       0.755437       0.695774   \n",
      "exp_fbf1_oo_3       0.777308       0.777326       0.774695       0.711767   \n",
      "exp_fbf2_oo_1       0.605364       0.603031       0.601473       0.759595   \n",
      "exp_fbf2_oo_2       0.573271       0.571581       0.568805       0.725296   \n",
      "exp_fbf2_oo_3       0.609191       0.605845       0.604116       0.757397   \n",
      "\n",
      "               exp_fbf2_sp_2  exp_fbf2_sp_3  exp_fbf1_oo_1  exp_fbf1_oo_2  \\\n",
      "exp_fbf1_sp_1       0.792314       0.785555       0.651501       0.763720   \n",
      "exp_fbf1_sp_2       0.783549       0.777718       0.657253       0.764779   \n",
      "exp_fbf1_sp_3       0.794597       0.786101       0.652231       0.755437   \n",
      "exp_fbf2_sp_1       0.978512       0.978889       0.620738       0.695774   \n",
      "exp_fbf2_sp_2       1.000000       0.983966       0.613734       0.690835   \n",
      "exp_fbf2_sp_3       0.983966       1.000000       0.614400       0.690271   \n",
      "exp_fbf1_oo_1       0.613734       0.614400       1.000000       0.836316   \n",
      "exp_fbf1_oo_2       0.690835       0.690271       0.836316       1.000000   \n",
      "exp_fbf1_oo_3       0.705521       0.703254       0.833197       0.987677   \n",
      "exp_fbf2_oo_1       0.755250       0.759100       0.736629       0.771593   \n",
      "exp_fbf2_oo_2       0.723137       0.726060       0.700605       0.720410   \n",
      "exp_fbf2_oo_3       0.753843       0.758426       0.740477       0.769766   \n",
      "\n",
      "               exp_fbf1_oo_3  exp_fbf2_oo_1  exp_fbf2_oo_2  exp_fbf2_oo_3  \n",
      "exp_fbf1_sp_1       0.777308       0.605364       0.573271       0.609191  \n",
      "exp_fbf1_sp_2       0.777326       0.603031       0.571581       0.605845  \n",
      "exp_fbf1_sp_3       0.774695       0.601473       0.568805       0.604116  \n",
      "exp_fbf2_sp_1       0.711767       0.759595       0.725296       0.757397  \n",
      "exp_fbf2_sp_2       0.705521       0.755250       0.723137       0.753843  \n",
      "exp_fbf2_sp_3       0.703254       0.759100       0.726060       0.758426  \n",
      "exp_fbf1_oo_1       0.833197       0.736629       0.700605       0.740477  \n",
      "exp_fbf1_oo_2       0.987677       0.771593       0.720410       0.769766  \n",
      "exp_fbf1_oo_3       1.000000       0.770661       0.720675       0.769722  \n",
      "exp_fbf2_oo_1       0.770661       1.000000       0.965665       0.983572  \n",
      "exp_fbf2_oo_2       0.720675       0.965665       1.000000       0.965258  \n",
      "exp_fbf2_oo_3       0.769722       0.983572       0.965258       1.000000  \n"
     ]
    },
    {
     "data": {
      "image/png": "[encoded data removed]",
      "text/plain": [
       "<matplotlib.figure.Figure at 0x10f918f60>"
      ]
     },
     "metadata": {},
     "output_type": "display_data"
    },
    {
     "name": "stdout",
     "output_type": "stream",
     "text": [
      "************************************************** \n",
      "20C\n",
      "               exp_fbf1_CGGA  exp_fbf1_GGTT  exp_fbf1_TGGC  exp_fbf2_CGGA  \\\n",
      "exp_fbf1_CGGA       1.000000       0.973328       0.946266       0.839042   \n",
      "exp_fbf1_GGTT       0.973328       1.000000       0.967369       0.876699   \n",
      "exp_fbf1_TGGC       0.946266       0.967369       1.000000       0.869690   \n",
      "exp_fbf2_CGGA       0.839042       0.876699       0.869690       1.000000   \n",
      "exp_fbf2_GGTT       0.815911       0.863914       0.848883       0.976414   \n",
      "exp_fbf2_TGGC       0.846013       0.882001       0.859318       0.983840   \n",
      "\n",
      "               exp_fbf2_GGTT  exp_fbf2_TGGC  \n",
      "exp_fbf1_CGGA       0.815911       0.846013  \n",
      "exp_fbf1_GGTT       0.863914       0.882001  \n",
      "exp_fbf1_TGGC       0.848883       0.859318  \n",
      "exp_fbf2_CGGA       0.976414       0.983840  \n",
      "exp_fbf2_GGTT       1.000000       0.970973  \n",
      "exp_fbf2_TGGC       0.970973       1.000000  \n"
     ]
    },
    {
     "data": {
      "text/plain": [
       "<matplotlib.figure.Figure at 0x10cb3ada0>"
      ]
     },
     "metadata": {},
     "output_type": "display_data"
    },
    {
     "data": {
      "image/png": "[encoded data removed]",
      "text/plain": [
       "<matplotlib.figure.Figure at 0x110bf86d8>"
      ]
     },
     "metadata": {},
     "output_type": "display_data"
    },
    {
     "name": "stdout",
     "output_type": "stream",
     "text": [
      "[0.839042357473062, 0.8159105871765711, 0.8460126833855395, 0.8766990995597324, 0.8639135925296849, 0.8820010555967349, 0.8696899352130228, 0.8488833701024433, 0.8593180904961629]\n",
      "Average R: 0.8557189746147725\n"
     ]
    },
    {
     "data": {
      "text/plain": [
       "<matplotlib.figure.Figure at 0x11176d1d0>"
      ]
     },
     "metadata": {},
     "output_type": "display_data"
    }
   ],
   "source": [
    "df = pandas.read_csv('../v2/tables/individual_replicate_binding_normalized_25C.txt', sep='\\t')\n",
    "print(df.corr('pearson'))\n",
    "import seaborn as sns\n",
    "\n",
    "sns.clustermap(df.corr('pearson'), cmap='Greys')\n",
    "plt.show()\n",
    "plt.clf()\n",
    "\n",
    "print('*****' * 10, '\\n20C')\n",
    "df = pandas.read_csv('../v2/tables/individual_replicate_binding_normalized_20C.txt', sep='\\t')\n",
    "print(df.corr('pearson'))\n",
    "import seaborn as sns\n",
    "\n",
    "corr_df = df.corr('pearson')\n",
    "sns.clustermap(corr_df, cmap='Greys')\n",
    "plt.show()\n",
    "plt.clf()\n",
    "\n",
    "pairs = []\n",
    "for fbf1 in [x for x in corr_df.columns if ('fbf1' in x)]:\n",
    "    for fbf2 in [x for x in corr_df.columns if ('fbf2' in x)]:\n",
    "        pairs.append(corr_df.loc[fbf1, fbf2])\n",
    "print(pairs)\n",
    "print(\"Average R: {}\".format(np.mean(pairs)))"
   ]
  },
  {
   "cell_type": "code",
   "execution_count": 26,
   "metadata": {},
   "outputs": [
    {
     "name": "stdout",
     "output_type": "stream",
     "text": [
      "Target numbers based on peaks:\n",
      "SP FBF (25°C)\n",
      "# RNAs: 1704\n",
      "Fraction of FBF-1 controlled to FBF-1 N2 in SP FBF (25°C): 55.0%\n",
      "Fraction of FBF-1 controlled to FBF-2 N2 in SP FBF (25°C): 55.0%\n",
      "Fraction of FBF-2 controlled to FBF-2 N2 in SP FBF (25°C): 72.3%\n",
      "Fraction of FBF peaks with ncRNA in SP FBF (25°C): 67.1%\n",
      "Fraction of FBF peaks without ncRNA in SP FBF (25°C): 67.6%\n",
      "Fraction of FBF peaks & also RIP-chip in SP FBF (25°C): 79.5%\n",
      "Fraction of FBF peaks & not RIP-chip in SP FBF (25°C): 58.9%\n",
      "SP FBF-2 (25°C)\n",
      "# RNAs: 1822\n",
      "Fraction of FBF-1 controlled to FBF-1 N2 in SP FBF-2 (25°C): 60.1%\n",
      "Fraction of FBF-1 controlled to FBF-2 N2 in SP FBF-2 (25°C): 60.1%\n",
      "Fraction of FBF-2 controlled to FBF-2 N2 in SP FBF-2 (25°C): 83.9%\n",
      "Fraction of FBF peaks with ncRNA in SP FBF-2 (25°C): 71.4%\n",
      "Fraction of FBF peaks without ncRNA in SP FBF-2 (25°C): 72.1%\n",
      "Fraction of FBF peaks & also RIP-chip in SP FBF-2 (25°C): 83.7%\n",
      "Fraction of FBF peaks & not RIP-chip in SP FBF-2 (25°C): 63.3%\n",
      "SP FBF-1 (25°C)\n",
      "# RNAs: 1804\n",
      "Fraction of FBF-1 controlled to FBF-1 N2 in SP FBF-1 (25°C): 59.8%\n",
      "Fraction of FBF-1 controlled to FBF-2 N2 in SP FBF-1 (25°C): 59.8%\n",
      "Fraction of FBF-2 controlled to FBF-2 N2 in SP FBF-1 (25°C): 76.7%\n",
      "Fraction of FBF peaks with ncRNA in SP FBF-1 (25°C): 70.2%\n",
      "Fraction of FBF peaks without ncRNA in SP FBF-1 (25°C): 70.8%\n",
      "Fraction of FBF peaks & also RIP-chip in SP FBF-1 (25°C): 85.5%\n",
      "Fraction of FBF peaks & not RIP-chip in SP FBF-1 (25°C): 60.2%\n",
      "OO FBF-2 (20°C)\n",
      "# RNAs: 2028\n",
      "Fraction of FBF-1 controlled to FBF-1 N2 in OO FBF-2 (20°C): 55.6%\n",
      "Fraction of FBF-1 controlled to FBF-2 N2 in OO FBF-2 (20°C): 55.6%\n",
      "Fraction of FBF-2 controlled to FBF-2 N2 in OO FBF-2 (20°C): 84.5%\n",
      "Fraction of FBF peaks with ncRNA in OO FBF-2 (20°C): 66.7%\n",
      "Fraction of FBF peaks without ncRNA in OO FBF-2 (20°C): 67.1%\n",
      "Fraction of FBF peaks & also RIP-chip in OO FBF-2 (20°C): 80.3%\n",
      "Fraction of FBF peaks & not RIP-chip in OO FBF-2 (20°C): 57.7%\n",
      "OO FBF (25°C)\n",
      "# RNAs: 1522\n",
      "Fraction of FBF-1 controlled to FBF-1 N2 in OO FBF (25°C): 54.7%\n",
      "Fraction of FBF-1 controlled to FBF-2 N2 in OO FBF (25°C): 54.7%\n",
      "Fraction of FBF-2 controlled to FBF-2 N2 in OO FBF (25°C): 71.0%\n",
      "Fraction of FBF peaks with ncRNA in OO FBF (25°C): 67.7%\n",
      "Fraction of FBF peaks without ncRNA in OO FBF (25°C): 68.1%\n",
      "Fraction of FBF peaks & also RIP-chip in OO FBF (25°C): 83.5%\n",
      "Fraction of FBF peaks & not RIP-chip in OO FBF (25°C): 57.4%\n",
      "OO FBF-1 (20°C)\n",
      "# RNAs: 2456\n",
      "Fraction of FBF-1 controlled to FBF-1 N2 in OO FBF-1 (20°C): 69.2%\n",
      "Fraction of FBF-1 controlled to FBF-2 N2 in OO FBF-1 (20°C): 69.2%\n",
      "Fraction of FBF-2 controlled to FBF-2 N2 in OO FBF-1 (20°C): 86.2%\n",
      "Fraction of FBF peaks with ncRNA in OO FBF-1 (20°C): 78.7%\n",
      "Fraction of FBF peaks without ncRNA in OO FBF-1 (20°C): 79.3%\n",
      "Fraction of FBF peaks & also RIP-chip in OO FBF-1 (20°C): 89.4%\n",
      "Fraction of FBF peaks & not RIP-chip in OO FBF-1 (20°C): 71.7%\n",
      "OO FBF-2 (25°C)\n",
      "# RNAs: 464\n",
      "Fraction of FBF-1 controlled to FBF-1 N2 in OO FBF-2 (25°C): 18.5%\n",
      "Fraction of FBF-1 controlled to FBF-2 N2 in OO FBF-2 (25°C): 18.5%\n",
      "Fraction of FBF-2 controlled to FBF-2 N2 in OO FBF-2 (25°C): 29.5%\n",
      "Fraction of FBF peaks with ncRNA in OO FBF-2 (25°C): 26.4%\n",
      "Fraction of FBF peaks without ncRNA in OO FBF-2 (25°C): 26.9%\n",
      "Fraction of FBF peaks & also RIP-chip in OO FBF-2 (25°C): 38.2%\n",
      "Fraction of FBF peaks & not RIP-chip in OO FBF-2 (25°C): 18.7%\n",
      "OO FBF-1 (25°C)\n",
      "# RNAs: 1064\n",
      "Fraction of FBF-1 controlled to FBF-1 N2 in OO FBF-1 (25°C): 39.8%\n",
      "Fraction of FBF-1 controlled to FBF-2 N2 in OO FBF-1 (25°C): 39.8%\n",
      "Fraction of FBF-2 controlled to FBF-2 N2 in OO FBF-1 (25°C): 53.7%\n",
      "Fraction of FBF peaks with ncRNA in OO FBF-1 (25°C): 50.1%\n",
      "Fraction of FBF peaks without ncRNA in OO FBF-1 (25°C): 50.4%\n",
      "Fraction of FBF peaks & also RIP-chip in OO FBF-1 (25°C): 66.4%\n",
      "Fraction of FBF peaks & not RIP-chip in OO FBF-1 (25°C): 39.4%\n",
      "In the new analysis, and at 20C, 1679/2456 FBF-1 targets overlap with FBF-2 (68.4%), and 1679/2028 FBF-2 targets overlap with FBF-1 (82.8%).\n"
     ]
    }
   ],
   "source": [
    "old = pandas.ExcelFile('../v2/tables/supp_055871.116_Supplemental_Table_S2.xls')\n",
    "\n",
    "rna_paper_targets = {}\n",
    "for sheetname in old.sheet_names:\n",
    "    df = pandas.read_excel(old, sheetname)\n",
    "    rna_paper_targets[sheetname] = set(df['Gene name'])\n",
    "\n",
    "\n",
    "exl = pandas.ExcelFile('../v2/tables/Table S1 Peaks.xls')\n",
    "\n",
    "dfs = {}\n",
    "\n",
    "print(\"Target numbers based on peaks:\")\n",
    "\n",
    "for sheet_name in exl.sheet_names:\n",
    "    \n",
    "    print(sheet_name)\n",
    "    \n",
    "    dfs[sheet_name] = pandas.read_excel(exl, sheet_name)\n",
    "    \n",
    "    target_set = set(dfs[sheet_name]['Gene name'])\n",
    "    print(\"# RNAs: {}\".format(len(target_set)))\n",
    "    \n",
    "    for name, _targets in rna_paper_targets.items():\n",
    "          fraction_of_rna_paper = len(target_set & _targets)/len(_targets)\n",
    "          print(\"Fraction of {} in {}: {:.3}%\".format(\n",
    "              name, sheet_name, 100*fraction_of_rna_paper))\n",
    "        \n",
    "old_fbf1 = set(dfs['OO FBF-1 (20°C)']['Gene name'])\n",
    "old_fbf2 = set(dfs['OO FBF-2 (20°C)']['Gene name'])\n",
    "both = old_fbf1 & old_fbf2\n",
    "print(\"In the new analysis, and at 20C, {}/{} FBF-1 targets overlap with FBF-2 ({:.3}%), \\\n",
    "and {}/{} FBF-2 targets overlap with FBF-1 ({:.3}%).\".format(\n",
    "    len(both), len(old_fbf1), 100*len(both)/len(old_fbf1),\n",
    "    len(both), len(old_fbf2), 100*len(both)/len(old_fbf2)))"
   ]
  },
  {
   "cell_type": "code",
   "execution_count": null,
   "metadata": {},
   "outputs": [],
   "source": []
  }
 ],
 "metadata": {
  "kernelspec": {
   "display_name": "Python 3",
   "language": "python",
   "name": "python3"
  },
  "language_info": {
   "codemirror_mode": {
    "name": "ipython",
    "version": 3
   },
   "file_extension": ".py",
   "mimetype": "text/x-python",
   "name": "python",
   "nbconvert_exporter": "python",
   "pygments_lexer": "ipython3",
   "version": "3.6.2"
  }
 },
 "nbformat": 4,
 "nbformat_minor": 2
}
