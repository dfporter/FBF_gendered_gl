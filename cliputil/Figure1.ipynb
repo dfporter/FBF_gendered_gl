{
 "cells": [
  {
   "cell_type": "code",
   "execution_count": 17,
   "metadata": {},
   "outputs": [],
   "source": [
    "# Figure 1C: % FBE.\n",
    "import pandas, importlib\n",
    "import seaborn as sns\n",
    "import matplotlib.pyplot as plt\n",
    "import numpy as np\n",
    "\n",
    "import countsColumnsNaming\n",
    "import vennMaker\n",
    "import peaksList\n",
    "import heatmap\n",
    "import utils\n",
    "\n"
   ]
  },
  {
   "cell_type": "code",
   "execution_count": 18,
   "metadata": {},
   "outputs": [
    {
     "name": "stdout",
     "output_type": "stream",
     "text": [
      "SP FBF (25°C)\n",
      "SP FBF-2 (25°C)\n",
      "SP FBF-1 (25°C)\n",
      "OO FBF-2 (20°C)\n",
      "OO FBF (25°C)\n",
      "OO FBF-1 (20°C)\n",
      "OO FBF-2 (25°C)\n",
      "OO FBF-1 (25°C)\n"
     ]
    }
   ],
   "source": [
    "exl = pandas.ExcelFile('../v2/tables/Table S1 Peaks.xls')\n",
    "\n",
    "dfs = {}\n",
    "\n",
    "for sheet_name in exl.sheet_names:\n",
    "    print(sheet_name)\n",
    "    dfs[sheet_name] = pandas.read_excel(exl, sheet_name)"
   ]
  },
  {
   "cell_type": "code",
   "execution_count": 19,
   "metadata": {},
   "outputs": [
    {
     "name": "stdout",
     "output_type": "stream",
     "text": [
      "OO FBF-1 (20°C)\n",
      "(2584, 19)\n",
      "0.7008513931888545\n",
      "0.86\n",
      "OO FBF-2 (20°C)\n",
      "(2150, 19)\n",
      "0.6893023255813954\n",
      "0.794\n",
      "OO FBF (25°C)\n",
      "(1817, 18)\n",
      "0.7055586130985141\n",
      "0.91\n",
      "SP FBF (25°C)\n",
      "(1991, 18)\n",
      "0.6916122551481667\n",
      "0.92\n",
      "                     Name  With FBE\n",
      "0         OO FBF-1 (20°C)  0.700851\n",
      "1  OO FBF-1 (20°C) top500  0.860000\n",
      "2         OO FBF-2 (20°C)  0.689302\n",
      "3  OO FBF-2 (20°C) top500  0.794000\n",
      "4           OO FBF (25°C)  0.705559\n",
      "5    OO FBF (25°C) top500  0.910000\n",
      "6           SP FBF (25°C)  0.691612\n",
      "7    SP FBF (25°C) top500  0.920000\n"
     ]
    },
    {
     "name": "stderr",
     "output_type": "stream",
     "text": [
      "/Users/dfporter/pma/venv/lib/python3.6/site-packages/seaborn/categorical.py:1460: FutureWarning: remove_na is deprecated and is a private function. Do not use.\n",
      "  stat_data = remove_na(group_data)\n"
     ]
    },
    {
     "data": {
      "image/png": "[encoded data removed]",
      "text/plain": [
       "<matplotlib.figure.Figure at 0x10c231ef0>"
      ]
     },
     "metadata": {},
     "output_type": "display_data"
    },
    {
     "data": {
      "image/png": "[encoded data removed]",
      "text/plain": [
       "<matplotlib.figure.Figure at 0x10dcc7860>"
      ]
     },
     "metadata": {},
     "output_type": "display_data"
    },
    {
     "data": {
      "text/plain": [
       "'\\nOO FBF-1 (20°C)\\n(2364, 18)\\n0.6307106598984772\\n0.922\\nOO FBF-2 (20°C)\\n(2835, 18)\\n0.6345679012345679\\n0.926\\nOO FBF (25°C)\\n(2139, 18)\\n0.6680691912108462\\n0.886\\nSP FBF (25°C)\\n(2131, 18)\\n0.7419052088221493\\n0.9'"
      ]
     },
     "execution_count": 19,
     "metadata": {},
     "output_type": "execute_result"
    }
   ],
   "source": [
    "def top_n_genes(df, n_genes=500):\n",
    "    _df = df.drop_duplicates(subset='Gene name')\n",
    "    _df.head(n_genes)\n",
    "    return _df\n",
    "\n",
    "\n",
    "order = ['OO FBF-1 (20°C)', 'OO FBF-2 (20°C)', 'OO FBF (25°C)', 'SP FBF (25°C)']\n",
    "order_exp = [\n",
    "    'OO FBF-1 (25°C)', 'OO FBF-1 (25°C) top 500', \n",
    "    'OO FBF-2 (25°C)', 'OO FBF-2 (25°C) top 500', \n",
    "    'OO FBF (25°C)', 'OO FBF (25°C) top 500', \n",
    "    'SP FBF (25°C)', 'SP FBF (25°C) top 500',\n",
    "]\n",
    "def figure1C(dfs):\n",
    "    perc_fbe = []\n",
    "    for sheet_name in order:\n",
    "        df = dfs[sheet_name]\n",
    "        print(sheet_name)\n",
    "    #    print(df.columns)\n",
    "        print(df.shape)\n",
    "        print(df['Has UGUNNNAU (FBE)?'].sum()/df.shape[0])\n",
    "        perc_fbe.append(\n",
    "            {'Name': sheet_name, 'With FBE': df['Has UGUNNNAU (FBE)?'].sum()/df.shape[0]})\n",
    "        top = df.head(500)\n",
    "        perc_fbe.append(\n",
    "            {'Name': sheet_name + ' top500', 'With FBE': top['Has UGUNNNAU (FBE)?'].sum()/top.shape[0]})\n",
    "        print(top['Has UGUNNNAU (FBE)?'].sum()/top.shape[0])\n",
    "\n",
    "    flat = pandas.DataFrame(perc_fbe)\n",
    "    print(flat)\n",
    "\n",
    "    fig = plt.figure()\n",
    "    sns.barplot(data=flat, x='Name', y='With FBE')\n",
    "    plt.ylim(0, 1)\n",
    "    plt.savefig('../v2/figs/Figure1A_barplot_FBE.pdf')\n",
    "    plt.show()\n",
    "    plt.clf()\n",
    "    plt.close()\n",
    "\n",
    "figure1C(dfs)\n",
    "\n",
    "def figure1E(dfs):\n",
    "    flat = []\n",
    "    for sheet_name in order:\n",
    "        df = dfs[sheet_name]\n",
    "        _df = df.drop_duplicates(subset='Gene name')\n",
    "        flat.append(\n",
    "            {'Name': sheet_name, '# RNAs': _df.shape[0]}\n",
    "        )\n",
    "    \n",
    "    flat = pandas.DataFrame(flat)\n",
    "    \n",
    "    fig = plt.figure()\n",
    "    sns.barplot(data=flat, x='Name', y='# RNAs')\n",
    "    plt.savefig('../v2/figs/Figure1E_barplot_num_RNAs.pdf')\n",
    "    plt.show()\n",
    "    plt.clf()\n",
    "    plt.close()\n",
    "    \n",
    "figure1E(dfs)\n",
    "\n",
    "'''\n",
    "OO FBF-1 (20°C)\n",
    "(2364, 18)\n",
    "0.6307106598984772\n",
    "0.922\n",
    "OO FBF-2 (20°C)\n",
    "(2835, 18)\n",
    "0.6345679012345679\n",
    "0.926\n",
    "OO FBF (25°C)\n",
    "(2139, 18)\n",
    "0.6680691912108462\n",
    "0.886\n",
    "SP FBF (25°C)\n",
    "(2131, 18)\n",
    "0.7419052088221493\n",
    "0.9'''"
   ]
  },
  {
   "cell_type": "code",
   "execution_count": 5,
   "metadata": {},
   "outputs": [
    {
     "data": {
      "text/plain": [
       "'/Users/dfporter/Desktop/macbook_air_Desktop/shared/sp_oo/FBF_gendered_gl/cliputil'"
      ]
     },
     "execution_count": 5,
     "metadata": {},
     "output_type": "execute_result"
    }
   ],
   "source": [
    "import os\n",
    "os.getcwd()"
   ]
  },
  {
   "cell_type": "code",
   "execution_count": null,
   "metadata": {},
   "outputs": [],
   "source": []
  }
 ],
 "metadata": {
  "kernelspec": {
   "display_name": "Python 3",
   "language": "python",
   "name": "python3"
  },
  "language_info": {
   "codemirror_mode": {
    "name": "ipython",
    "version": 3
   },
   "file_extension": ".py",
   "mimetype": "text/x-python",
   "name": "python",
   "nbconvert_exporter": "python",
   "pygments_lexer": "ipython3",
   "version": "3.6.2"
  }
 },
 "nbformat": 4,
 "nbformat_minor": 2
}
