{
 "cells": [
  {
   "cell_type": "code",
   "execution_count": 38,
   "metadata": {},
   "outputs": [
    {
     "data": {
      "text/plain": [
       "<module 'utils' from '/Users/dfporter/Desktop/macbook_air_Desktop/shared/sp_oo/FBF_gendered_gl/cliputil/utils.py'>"
      ]
     },
     "execution_count": 38,
     "metadata": {},
     "output_type": "execute_result"
    }
   ],
   "source": [
    "import pandas, importlib\n",
    "import matplotlib.pyplot as plt\n",
    "\n",
    "import countsColumnsNaming\n",
    "import vennMaker\n",
    "import peaksList\n",
    "import heatmap\n",
    "import utils\n",
    "\n",
    "rl = importlib.reload\n",
    "rl(vennMaker)\n",
    "rl(peaksList)\n",
    "rl(heatmap)\n",
    "rl(utils)\n"
   ]
  },
  {
   "cell_type": "code",
   "execution_count": 7,
   "metadata": {},
   "outputs": [
    {
     "name": "stdout",
     "output_type": "stream",
     "text": [
      "\"control_oo_counts.txt\": 393784,\n",
      "\"control_oo_1_counts.txt\": 97070,\n",
      "\"control_oo_2_counts.txt\": 200654,\n",
      "\"control_oo_3_counts.txt\": 96060,\n",
      "\"control_sp_counts.txt\": 359370,\n",
      "\"control_sp_1_counts.txt\": 128443,\n",
      "\"control_sp_2_counts.txt\": 65914,\n",
      "\"control_sp_3_counts.txt\": 165013,\n",
      "\"exp_fbf1_oo_1_counts.txt\": 13486,\n",
      "\"exp_fbf1_oo_2_counts.txt\": 681860,\n",
      "\"exp_fbf1_oo_3_counts.txt\": 1698217,\n",
      "\"exp_fbf1_sp_1_counts.txt\": 852744,\n",
      "\"exp_fbf1_sp_2_counts.txt\": 475910,\n",
      "\"exp_fbf1_sp_3_counts.txt\": 1064502,\n",
      "\"exp_fbf2_oo_1_counts.txt\": 426458,\n",
      "\"exp_fbf2_oo_2_counts.txt\": 186319,\n",
      "\"exp_fbf2_oo_3_counts.txt\": 354981,\n",
      "\"exp_fbf2_sp_1_counts.txt\": 569792,\n",
      "\"exp_fbf2_sp_2_counts.txt\": 1001336,\n",
      "\"exp_fbf2_sp_3_counts.txt\": 740220,\n",
      "\"exp_fbf_oo_1_counts.txt\": 439944,\n",
      "\"exp_fbf_oo_2_counts.txt\": 1036841,\n",
      "\"exp_fbf_oo_3_counts.txt\": 1884536,\n",
      "\"exp_fbf_sp_1_counts.txt\": 1477246,\n",
      "\"exp_fbf_sp_2_counts.txt\": 1592964,\n",
      "\"exp_fbf_sp_3_counts.txt\": 1634294,\n"
     ]
    }
   ],
   "source": [
    "li =\"\"\"  393784 bed_collapsed/control_oo.bed\n",
    "   97070 bed_collapsed/control_oo_1.bed\n",
    "  200654 bed_collapsed/control_oo_2.bed\n",
    "   96060 bed_collapsed/control_oo_3.bed\n",
    "  359370 bed_collapsed/control_sp.bed\n",
    "  128443 bed_collapsed/control_sp_1.bed\n",
    "   65914 bed_collapsed/control_sp_2.bed\n",
    "  165013 bed_collapsed/control_sp_3.bed\n",
    "   13486 bed_collapsed/exp_fbf1_oo_1.bed\n",
    "  681860 bed_collapsed/exp_fbf1_oo_2.bed\n",
    " 1698217 bed_collapsed/exp_fbf1_oo_3.bed\n",
    "  852744 bed_collapsed/exp_fbf1_sp_1.bed\n",
    "  475910 bed_collapsed/exp_fbf1_sp_2.bed\n",
    " 1064502 bed_collapsed/exp_fbf1_sp_3.bed\n",
    "  426458 bed_collapsed/exp_fbf2_oo_1.bed\n",
    "  186319 bed_collapsed/exp_fbf2_oo_2.bed\n",
    "  354981 bed_collapsed/exp_fbf2_oo_3.bed\n",
    "  569792 bed_collapsed/exp_fbf2_sp_1.bed\n",
    " 1001336 bed_collapsed/exp_fbf2_sp_2.bed\n",
    "  740220 bed_collapsed/exp_fbf2_sp_3.bed\n",
    "  439944 bed_collapsed/exp_fbf_oo_1.bed\n",
    " 1036841 bed_collapsed/exp_fbf_oo_2.bed\n",
    " 1884536 bed_collapsed/exp_fbf_oo_3.bed\n",
    " 1477246 bed_collapsed/exp_fbf_sp_1.bed\n",
    " 1592964 bed_collapsed/exp_fbf_sp_2.bed\n",
    " 1634294 bed_collapsed/exp_fbf_sp_3.bed\"\"\"\n",
    "\n",
    "for r in li.split('\\n'):\n",
    "    s = r.lstrip(' ').split(' ')\n",
    "    outli = '\"{}_counts.txt\": {},'.format(s[1].split('/')[-1].split('.')[0], s[0])\n",
    "    print(outli)\n"
   ]
  },
  {
   "cell_type": "code",
   "execution_count": 69,
   "metadata": {},
   "outputs": [
    {
     "name": "stdout",
     "output_type": "stream",
     "text": [
      "SP FBF (25°C)\n",
      "SP FBF-2 (25°C)\n",
      "SP FBF-1 (25°C)\n",
      "OO FBF-1 (20°C)\n",
      "OO FBF-2 (20°C)\n",
      "OO FBF (25°C)\n",
      "OO FBF-2 (25°C)\n",
      "OO FBF-1 (25°C)\n",
      "---\n",
      "1958 RNAs were targets in SP or OO germlines.\n",
      "Among those, 1458 were OO only, 15 were SP only, and 485 were shared.\n",
      "\n",
      "SP FBF (25°C)\n",
      "SP FBF-2 (25°C)\n",
      "SP FBF-1 (25°C)\n",
      "OO FBF-1 (20°C)\n",
      "OO FBF-2 (20°C)\n",
      "OO FBF (25°C)\n",
      "OO FBF-2 (25°C)\n",
      "OO FBF-1 (25°C)\n",
      "---\n",
      "1817 RNAs were targets in SP or OO germlines.\n",
      "Among those, 75 were OO only, 1317 were SP only, and 425 were shared.\n",
      "\n"
     ]
    },
    {
     "data": {
      "image/png": "[encoded data removed]",
      "text/plain": [
       "<matplotlib.figure.Figure at 0x115361240>"
      ]
     },
     "metadata": {},
     "output_type": "display_data"
    }
   ],
   "source": [
    "from _label_to_fname import label_to_fname, fname_to_label\n",
    "rl(vennMaker)\n",
    "\n",
    "v = vennMaker.vennMaker()\n",
    "v.load_peaks_from_excel_file()\n",
    "\n",
    "#v.load_peaks_csv_files(label_to_fname)\n",
    "plt.rc('font', size=10)\n",
    "fig, ax = plt.subplots(2)\n",
    "def top_n(v, list_name):\n",
    "    v.df[list_name].drop_duplicates(subset='Gene name', keep='first', inplace=True)\n",
    "    v.df[list_name] = v.df[list_name].head(500).copy()\n",
    "    v.targs[list_name] = set(v.df[list_name]['Gene name'].tolist())\n",
    "\n",
    "#v.top_n_ranks(n=500)\n",
    "top_n(v, 'OO FBF (25°C)')\n",
    "v.oo_vs_sp(ax[0], b=v.targs['OO FBF (25°C)'], a=v.targs['SP FBF (25°C)'], look_at_biotypes=False)\n",
    "\n",
    "v = vennMaker.vennMaker()\n",
    "v.load_peaks_from_excel_file()\n",
    "\n",
    "top_n(v, 'SP FBF (25°C)')\n",
    "v.oo_vs_sp(ax[1], b=v.targs['OO FBF (25°C)'], a=v.targs['SP FBF (25°C)'], look_at_biotypes=False)\n",
    "\n",
    "skip = \"\"\"\n",
    "#v.new_oo_vs_old_both_fbfs(ax[0])\n",
    "#v.top_n_ranks(n=500)\n",
    "list_name = 'OO FBF (25°C)'\n",
    "v.df[list_name].drop_duplicates(subset='Gene name', keep='first', inplace=True)\n",
    "v.df[list_name] = v.df[list_name].head(500).copy()\n",
    "v.targs[list_name] = set(v.df[list_name]['Gene name'].tolist())\n",
    "\n",
    "v.new_oo_vs_old_both_fbfs(ax[0])\n",
    "\n",
    "v = vennMaker.vennMaker()\n",
    "v.load_peaks_from_excel_file()\n",
    "list_name = 'OO FBF (20°C, both FBFs)'\n",
    "v.df[list_name].drop_duplicates(subset='Gene name', keep='first', inplace=True)\n",
    "v.df[list_name] = v.df[list_name].head(500).copy()\n",
    "v.targs[list_name] = set(v.df[list_name]['Gene name'].tolist())\n",
    "\n",
    "v.new_oo_vs_old_both_fbfs(ax[1])\"\"\"\n",
    "\n",
    "plt.tight_layout()\n",
    "plt.show()\n",
    "#plt.savefig('Fig S1 venns.pdf')\n",
    "plt.clf()\n",
    "plt.close()"
   ]
  },
  {
   "cell_type": "code",
   "execution_count": 28,
   "metadata": {},
   "outputs": [
    {
     "name": "stdout",
     "output_type": "stream",
     "text": [
      "Rank                                                                                                         1\n",
      "Chrm                                                                                                       III\n",
      "Nucleotide location left end of peak                                                                  10506104\n",
      "Nucleotide location right end of peak                                                                 10506370\n",
      "Gene name                                                                                                sip-1\n",
      "Peak height (reads/million)                                                                            815.241\n",
      "Strand                                                                                                       -\n",
      "Transcript                                                                                             F43D9.4\n",
      "Biotype                                                                                         protein_coding\n",
      "Has UGUNNNAU (FBE)?                                                                                          1\n",
      "Has -1C FBE?                                                                                                 1\n",
      "Has -2C FBE?                                                                                                 0\n",
      "Has -1 or -2 C FBE?                                                                                          1\n",
      "Sequence under peak                                          GTTCACTCGCCAGTTCACTCTTCCAAAGGACGTCGACTTGGCTCAC...\n",
      "Is a target by RIP-chip (Kershner et al.)?                                                                   0\n",
      "P value vs negative IP, using a local normal distribution                                                    0\n",
      "Enrichment over negative IP (reads/million)                                                            5.79496\n",
      "Description                                                                          Stress-induced protein 1 \n",
      "Name: 0, dtype: object\n"
     ]
    }
   ],
   "source": [
    "print(v.df['SP FBF (25°C)'].iloc[0])\n"
   ]
  },
  {
   "cell_type": "code",
   "execution_count": null,
   "metadata": {},
   "outputs": [],
   "source": []
  }
 ],
 "metadata": {
  "kernelspec": {
   "display_name": "Python 3",
   "language": "python",
   "name": "python3"
  },
  "language_info": {
   "codemirror_mode": {
    "name": "ipython",
    "version": 3
   },
   "file_extension": ".py",
   "mimetype": "text/x-python",
   "name": "python",
   "nbconvert_exporter": "python",
   "pygments_lexer": "ipython3",
   "version": "3.6.2"
  }
 },
 "nbformat": 4,
 "nbformat_minor": 2
}
