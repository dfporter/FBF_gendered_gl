{
 "cells": [
  {
   "cell_type": "code",
   "execution_count": 83,
   "metadata": {},
   "outputs": [
    {
     "name": "stdout",
     "output_type": "stream",
     "text": [
      "start=3.2857142857142856, rot=-0.65\n"
     ]
    },
    {
     "data": {
      "text/plain": [
       "<matplotlib.figure.Figure at 0x10fede588>"
      ]
     },
     "metadata": {},
     "output_type": "display_data"
    },
    {
     "data": {
      "image/png": "[encoded data removed]",
      "text/plain": [
       "<matplotlib.figure.Figure at 0x10fec06a0>"
      ]
     },
     "metadata": {},
     "output_type": "display_data"
    },
    {
     "name": "stdout",
     "output_type": "stream",
     "text": [
      "start=25.333333333333332, rot=-0.94\n"
     ]
    },
    {
     "data": {
      "text/plain": [
       "<matplotlib.figure.Figure at 0x10f4d3ac8>"
      ]
     },
     "metadata": {},
     "output_type": "display_data"
    },
    {
     "data": {
      "image/png": "[encoded data removed]",
      "text/plain": [
       "<matplotlib.figure.Figure at 0x10e2b25f8>"
      ]
     },
     "metadata": {},
     "output_type": "display_data"
    },
    {
     "name": "stdout",
     "output_type": "stream",
     "text": [
      "start=-4.125, rot=0.75\n"
     ]
    },
    {
     "data": {
      "text/plain": [
       "<matplotlib.figure.Figure at 0x10f811eb8>"
      ]
     },
     "metadata": {},
     "output_type": "display_data"
    },
    {
     "data": {
      "image/png": "[encoded data removed]",
      "text/plain": [
       "<matplotlib.figure.Figure at 0x10e2cb5c0>"
      ]
     },
     "metadata": {},
     "output_type": "display_data"
    },
    {
     "name": "stdout",
     "output_type": "stream",
     "text": [
      "start=10.2, rot=-0.19\n"
     ]
    },
    {
     "data": {
      "text/plain": [
       "<matplotlib.figure.Figure at 0x10fd5cda0>"
      ]
     },
     "metadata": {},
     "output_type": "display_data"
    },
    {
     "data": {
      "image/png": "[encoded data removed]",
      "text/plain": [
       "<matplotlib.figure.Figure at 0x10fd33be0>"
      ]
     },
     "metadata": {},
     "output_type": "display_data"
    },
    {
     "name": "stdout",
     "output_type": "stream",
     "text": [
      "start=5.666666666666667, rot=-0.8\n"
     ]
    },
    {
     "data": {
      "text/plain": [
       "<matplotlib.figure.Figure at 0x10e81fba8>"
      ]
     },
     "metadata": {},
     "output_type": "display_data"
    },
    {
     "data": {
      "image/png": "[encoded data removed]",
      "text/plain": [
       "<matplotlib.figure.Figure at 0x10e7fb898>"
      ]
     },
     "metadata": {},
     "output_type": "display_data"
    },
    {
     "name": "stdout",
     "output_type": "stream",
     "text": [
      "start=-1.0238095238095237, rot=0.26\n"
     ]
    },
    {
     "data": {
      "text/plain": [
       "<matplotlib.figure.Figure at 0x1162551d0>"
      ]
     },
     "metadata": {},
     "output_type": "display_data"
    },
    {
     "data": {
      "image/png": "[encoded data removed]",
      "text/plain": [
       "<matplotlib.figure.Figure at 0x10e6f7860>"
      ]
     },
     "metadata": {},
     "output_type": "display_data"
    },
    {
     "name": "stdout",
     "output_type": "stream",
     "text": [
      "start=1.7777777777777777, rot=-0.35\n"
     ]
    },
    {
     "data": {
      "text/plain": [
       "<matplotlib.figure.Figure at 0x111411080>"
      ]
     },
     "metadata": {},
     "output_type": "display_data"
    },
    {
     "data": {
      "image/png": "[encoded data removed]",
      "text/plain": [
       "<matplotlib.figure.Figure at 0x110b76390>"
      ]
     },
     "metadata": {},
     "output_type": "display_data"
    },
    {
     "name": "stdout",
     "output_type": "stream",
     "text": [
      "start=5.111111111111111, rot=-0.2\n"
     ]
    },
    {
     "data": {
      "text/plain": [
       "<matplotlib.figure.Figure at 0x10f745780>"
      ]
     },
     "metadata": {},
     "output_type": "display_data"
    },
    {
     "data": {
      "image/png": "[encoded data removed]",
      "text/plain": [
       "<matplotlib.figure.Figure at 0x10e2bde10>"
      ]
     },
     "metadata": {},
     "output_type": "display_data"
    },
    {
     "name": "stdout",
     "output_type": "stream",
     "text": [
      "start=0.0, rot=0.01\n"
     ]
    },
    {
     "data": {
      "text/plain": [
       "<matplotlib.figure.Figure at 0x10fd45438>"
      ]
     },
     "metadata": {},
     "output_type": "display_data"
    },
    {
     "data": {
      "image/png": "[encoded data removed]",
      "text/plain": [
       "<matplotlib.figure.Figure at 0x110ae65f8>"
      ]
     },
     "metadata": {},
     "output_type": "display_data"
    },
    {
     "name": "stdout",
     "output_type": "stream",
     "text": [
      "start=-2.9655172413793105, rot=0.37\n"
     ]
    },
    {
     "data": {
      "text/plain": [
       "<matplotlib.figure.Figure at 0x1167b5a58>"
      ]
     },
     "metadata": {},
     "output_type": "display_data"
    },
    {
     "data": {
      "image/png": "[encoded data removed]",
      "text/plain": [
       "<matplotlib.figure.Figure at 0x10fd5a0b8>"
      ]
     },
     "metadata": {},
     "output_type": "display_data"
    }
   ],
   "source": [
    "# Random color distributions to pick from.\n",
    "for x in range(0, 10):\n",
    "    \n",
    "    signs = random.sample(set([-1, 1]), 2)\n",
    "    start = signs[0] * random.randint(0, 100)/random.randint(1,50)\n",
    "    rotate = signs[1] * random.randint(0, 100)/100\n",
    "    \n",
    "    print(\"start={0}, rot={1}\".format(start, rotate))\n",
    "    \n",
    "    sns.palplot(sns.cubehelix_palette(n_colors=12, start=start, rot=rotate))\n",
    "    plt.show()\n",
    "    plt.clf() \n",
    "    "
   ]
  },
  {
   "cell_type": "code",
   "execution_count": 78,
   "metadata": {},
   "outputs": [
    {
     "name": "stdout",
     "output_type": "stream",
     "text": [
      "From Nobel et al., loaded 6655 SP genes, 9415 OO genes,\n",
      "and 12839 total GL genes.\n",
      "CLIP peaks in a GL program: Oogenic only                 4798\n",
      "Oogenic and Spermatogenic    2462\n",
      "Spermatogenic only           1825\n",
      "                             1036\n",
      "Name: Program, dtype: int64\n"
     ]
    },
    {
     "name": "stderr",
     "output_type": "stream",
     "text": [
      "/Users/dfporter/pma/venv/lib/python3.6/site-packages/ipykernel_launcher.py:22: RuntimeWarning: divide by zero encountered in log10\n",
      "/Users/dfporter/pma/venv/lib/python3.6/site-packages/ipykernel_launcher.py:11: FutureWarning: by argument to sort_index is deprecated, pls use .sort_values(by=...)\n",
      "  # This is added back by InteractiveShellApp.init_path()\n"
     ]
    },
    {
     "data": {
      "image/png": "[encoded data removed]",
      "text/plain": [
       "<matplotlib.figure.Figure at 0x1159577b8>"
      ]
     },
     "metadata": {},
     "output_type": "display_data"
    },
    {
     "data": {
      "image/png": "[encoded data removed]",
      "text/plain": [
       "<matplotlib.figure.Figure at 0x10fe44080>"
      ]
     },
     "metadata": {},
     "output_type": "display_data"
    }
   ],
   "source": [
    "import pandas, random\n",
    "from collections import defaultdict\n",
    "import seaborn as sns\n",
    "import matplotlib.pyplot as plt\n",
    "import numpy as np\n",
    "import matplotlib as mpl\n",
    "\n",
    "import volcanoMaker\n",
    "\n",
    "def sort_drop_dups(_df):\n",
    "    _df.sort_index(by=['exp_reads'], ascending=False, inplace=True)\n",
    "    _df.drop_duplicates(subset='gene_name', inplace=True)\n",
    "    return _df\n",
    "\n",
    "def compare_temp_changes_vs_abundance(v):\n",
    "    ortiz_df = pandas.read_csv(\n",
    "        '/opt/lib/ortiz/DESeq_genes_in_gonad.txt', sep='\\t')\n",
    "    \n",
    "    df = v.df.copy()  #v.df[[(name in name_set) for name in v.df.gene_name]]\n",
    "    \n",
    "    df['OO RPKM'] = [v.name_to_oo_rpkm(name) for name in v.df.gene_name]\n",
    "    df['OO RPKM'] = [np.log10(_x) for _x in df['OO RPKM'].tolist()]\n",
    "    df = df.replace([np.inf, -np.inf], np.nan)\n",
    "    df.dropna(inplace=True)   \n",
    "    \n",
    "    \n",
    "\n",
    "    oo_df = pandas.read_csv(top_dir + 'combined_filtered/oo_both.txt', sep='\\t')\n",
    "    oo_df = sort_drop_dups(oo_df)\n",
    "    \n",
    "    i = df[[(name in set(i_names)) for name in df.gene_name]]\n",
    "    ii = df[[(name in set(ii_names)) for name in df.gene_name]]\n",
    "    iii = df[[(name in set(iii_names)) for name in df.gene_name]]\n",
    "\n",
    "    def top_n(_df):\n",
    "        _df = sort_drop_dups(_df.copy())\n",
    "        return _df.head(100).copy()\n",
    "\n",
    "    targs_xy_df = df[[(name in set(oo_df.gene_name)) for name in df.gene_name]]\n",
    "    \n",
    "    top_oo = top_n(oo_df)\n",
    "    \n",
    "    top_oo_df = df[[(name in set(top_oo.gene_name)) for name in df.gene_name]]\n",
    "\n",
    "    oo_d = oo_df.to_dict('records')\n",
    "\n",
    "    with sns.plotting_context('paper'):\n",
    "        sns.set_style('ticks')\n",
    "        mpl.rc(\"figure\", figsize=(4, 4))\n",
    "        fig, ax = plt.subplots(nrows=1)\n",
    "\n",
    "        plt.scatter(df['OO RPKM'].tolist(), df['log2FoldChange'].tolist(), color='k', alpha=0.05)\n",
    "        plt.scatter(iii['OO RPKM'].tolist(), iii['log2FoldChange'].tolist(), color='r',\n",
    "                    edgecolor=None)\n",
    "        ax.set_ylim([-2, 2])\n",
    "\n",
    "        fig.savefig(top_dir + 'figs/gld1_block 25deg enrichment vs RNA abundance scatter.pdf',\n",
    "                    bbox_inches='tight')\n",
    "        plt.show()\n",
    "        plt.clf()\n",
    "        plt.close()\n",
    "        \n",
    "        \n",
    "        fig, ax = plt.subplots(nrows=1)\n",
    "\n",
    "        tups = []\n",
    "        \n",
    "#        for r in random.sample(df['OO RPKM'].tolist(), 5000):\n",
    "        for r in df['OO RPKM']:\n",
    "            tups.append(['Oogenic  transcriptome\\n(Ortiz et al 2014)', r])\n",
    "        for r in targs_xy_df['OO RPKM']:\n",
    "            tups.append(['FBF targets\\noogenic germlines (25°C)', r])\n",
    "        for r in top_oo_df['OO RPKM']:\n",
    "            tups.append(['Top 100 FBF targets\\noogenic germlines (25°C)', r])             \n",
    "        for r in i['OO RPKM']:\n",
    "            tups.append(['Block I', r])\n",
    "        for r in ii['OO RPKM']:\n",
    "            tups.append(['Block II', r])\n",
    "        for r in iii['OO RPKM']:\n",
    "            tups.append(['Block III', r])\n",
    "\n",
    "        violin = pandas.DataFrame(\n",
    "            tups, columns=[' ', 'RNA abundance in Oo. GL (log10 RPKM)'])\n",
    "        \n",
    "        violin.dropna(inplace=True)\n",
    "\n",
    "        sns.set_style('ticks')\n",
    "        ax = sns.violinplot(\n",
    "            y=' ',\n",
    "            x='RNA abundance in Oo. GL (log10 RPKM)',\n",
    "            data=violin,\n",
    "            palette=sns.cubehelix_palette(start=1.25, rot=0.6, n_colors=2*len(set(violin[' ']))),\n",
    "            ax=ax)\n",
    "        # start=1.6304347826086956, rot=0.76\n",
    "        sns.despine()\n",
    "\n",
    "        #ax.set_xticklabels(ax.get_xticklabels(), rotation=90)\n",
    "        #ax.set_yticklabels(ax.get_yticklabels(), rotation=0)\n",
    "        fig.savefig(top_dir + 'figs/gld1_block RNA abundance hist.pdf',\n",
    "                    bbox_inches='tight')\n",
    "        plt.show()\n",
    "        plt.clf()\n",
    "        plt.close()        \n",
    "        \n",
    "def read_file(in_file, sheetname='', top_n=None):\n",
    "    \n",
    "    xls = pandas.ExcelFile(in_file)\n",
    "\n",
    "table_dir = '/Users/dfporter/Desktop/macbook_air_Desktop/shared/sp_oo/FBF_gendered_gl/tables/'\n",
    "top_dir = '/Users/dfporter/Desktop/macbook_air_Desktop/shared/sp_oo/FBF_gendered_gl/'\n",
    "\n",
    "in_file = '/Users/dfporter/Desktop/macbook_air_Desktop/shared/sp_oo/FBF_gendered_gl/tables/File S6 Blocks.xlsx'\n",
    "\n",
    "i_df = pandas.read_excel(in_file, sheetname='Block I', index=False)\n",
    "i_names = set(i_df['Gene name'].tolist())\n",
    "ii_df = pandas.read_excel(in_file, sheetname='Block II', index=False)\n",
    "ii_names = set(ii_df['Gene name'].tolist())\n",
    "iii_df = pandas.read_excel(in_file, sheetname='Block III', index=False)\n",
    "iii_names = set(iii_df['Gene name'].tolist())\n",
    "\n",
    "v = volcanoMaker.volcanoMaker()\n",
    "v.gl_rnaseq()  # Sets v.ortiz (AKA v.gl_deseq_df).\n",
    "\n",
    "v.read_clip_deseq_csv(table_dir + '6_reps_sp_vs_oo.txt')#lt_fbf1_and_2_vs_ht_fbf_deseq.txt')\n",
    "v.read_programs()\n",
    "\n",
    "df = v.df[v.df['has_ortiz']].copy()\n",
    "compare_temp_changes_vs_abundance(v)\n",
    "\n",
    "\n",
    "#df['WBID'] = [try_to_find_wbid(x) for x in df['Gene name'].tolist()]"
   ]
  },
  {
   "cell_type": "code",
   "execution_count": 9,
   "metadata": {},
   "outputs": [
    {
     "name": "stdout",
     "output_type": "stream",
     "text": [
      "[[  2.   9.]\n",
      " [ 22.  nan]\n",
      " [ 23.  nan]\n",
      " [ nan   3.]]\n",
      "[True, False, False, False]\n",
      "[[ 2.  9.]]\n"
     ]
    }
   ],
   "source": [
    "import numpy as np\n",
    "arr = [(2, 9), (22, np.nan), (23, 'nan'), (np.nan, 3)]\n",
    "arr = np.array(arr, dtype=float)\n",
    "print(arr)\n",
    "m = [not any(np.isnan(x)) for x in arr]\n",
    "print(m)\n",
    "m = arr[~np.isnan(arr).any(axis=1)]\n",
    "print(m)"
   ]
  }
 ],
 "metadata": {
  "kernelspec": {
   "display_name": "Python 3",
   "language": "python",
   "name": "python3"
  },
  "language_info": {
   "codemirror_mode": {
    "name": "ipython",
    "version": 3
   },
   "file_extension": ".py",
   "mimetype": "text/x-python",
   "name": "python",
   "nbconvert_exporter": "python",
   "pygments_lexer": "ipython3",
   "version": "3.6.2"
  }
 },
 "nbformat": 4,
 "nbformat_minor": 2
}
